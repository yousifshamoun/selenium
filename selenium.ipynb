{
 "cells": [
  {
   "cell_type": "code",
   "execution_count": 29,
   "id": "700b4f27-8140-4fb4-8603-b52e397ffe18",
   "metadata": {
    "scrolled": true
   },
   "outputs": [],
   "source": [
    "from selenium import webdriver\n",
    "from selenium.webdriver.common.desired_capabilities import DesiredCapabilities\n",
    "import json\n",
    "from time import sleep"
   ]
  },
  {
   "cell_type": "code",
   "execution_count": null,
   "id": "c40ce27b-c0d5-42cd-ad4e-599b6890dab7",
   "metadata": {},
   "outputs": [],
   "source": [
    "options = webdriver.ChromeOptions()\n",
    "options.add_argument(\"--headless=new\")\n",
    "caps = DesiredCapabilities.CHROME\n",
    "options.set_capability('goog:loggingPrefs', {'performance': 'ALL'})\n",
    "driver = webdriver.Chrome(options=options)\n",
    "driver.get('http://google.com')\n",
    "def process_browser_log_entry(entry):\n",
    "    response = json.loads(entry['message'])['message']\n",
    "    return response\n",
    "\n",
    "browser_log = driver.get_log('performance') \n",
    "# print(browser_log)\n",
    "events = [process_browser_log_entry(entry) for entry in browser_log]\n",
    "events = [event for event in events if 'Network.response' in event['method']]\n",
    "print(events)\n",
    "\n",
    "driver.quit()"
   ]
  },
  {
   "cell_type": "code",
   "execution_count": 37,
   "id": "813c74af-2930-4bd7-817d-b7564536388e",
   "metadata": {},
   "outputs": [
    {
     "name": "stdout",
     "output_type": "stream",
     "text": [
      "Caught https://ogads-pa.googleapis.com/$rpc/google.internal.onegoogle.asyncdata.v1.AsyncDataService/GetAsyncData\n",
      "\n",
      "{'base64Encoded': False, 'body': '[null,null,null,null,null,null,null,null,null,null,0]'} \n",
      "\n"
     ]
    }
   ],
   "source": [
    "from selenium import webdriver\n",
    "from selenium.webdriver.common.desired_capabilities import DesiredCapabilities\n",
    "import json\n",
    "from time import sleep\n",
    "options = webdriver.ChromeOptions()\n",
    "options.add_argument(\"--headless=new\")\n",
    "caps = DesiredCapabilities.CHROME\n",
    "options.set_capability('goog:loggingPrefs', {'performance': 'ALL'})\n",
    "driver = webdriver.Chrome(options=options)\n",
    "driver.get('http://google.com')\n",
    "# sleep(5)  # wait for the requests to take place\n",
    "\n",
    "# extract requests from logs\n",
    "logs_raw = driver.get_log(\"performance\")\n",
    "logs = [json.loads(lr[\"message\"])[\"message\"] for lr in logs_raw]\n",
    "\n",
    "def log_filter(log_):\n",
    "    return (\n",
    "        # is an actual response\n",
    "        log_[\"method\"] == \"Network.responseReceived\"\n",
    "        # and json\n",
    "        and \"json\" in log_[\"params\"][\"response\"][\"mimeType\"]\n",
    "    )\n",
    "\n",
    "for log in filter(log_filter, logs):\n",
    "    request_id = log[\"params\"][\"requestId\"]\n",
    "    resp_url = log[\"params\"][\"response\"][\"url\"]\n",
    "    if \"async\" in resp_url:\n",
    "        print(f\"Caught {resp_url}\\n\")\n",
    "        print(driver.execute_cdp_cmd(\"Network.getResponseBody\", {\"requestId\": request_id}), \"\\n\")"
   ]
  },
  {
   "cell_type": "code",
   "execution_count": null,
   "id": "1b1c9cf4-57f4-4849-a997-4e3757f15322",
   "metadata": {},
   "outputs": [],
   "source": []
  }
 ],
 "metadata": {
  "kernelspec": {
   "display_name": "Python 3 (ipykernel)",
   "language": "python",
   "name": "python3"
  },
  "language_info": {
   "codemirror_mode": {
    "name": "ipython",
    "version": 3
   },
   "file_extension": ".py",
   "mimetype": "text/x-python",
   "name": "python",
   "nbconvert_exporter": "python",
   "pygments_lexer": "ipython3",
   "version": "3.11.5"
  }
 },
 "nbformat": 4,
 "nbformat_minor": 5
}
